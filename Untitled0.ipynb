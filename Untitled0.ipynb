{
  "nbformat": 4,
  "nbformat_minor": 0,
  "metadata": {
    "colab": {
      "name": "Untitled0.ipynb",
      "provenance": [],
      "collapsed_sections": [],
      "authorship_tag": "ABX9TyNAWHeHtuuHTcbUFRi21sXZ",
      "include_colab_link": true
    },
    "kernelspec": {
      "name": "python3",
      "display_name": "Python 3"
    },
    "language_info": {
      "name": "python"
    }
  },
  "cells": [
    {
      "cell_type": "markdown",
      "metadata": {
        "id": "view-in-github",
        "colab_type": "text"
      },
      "source": [
        "<a href=\"https://colab.research.google.com/github/Arslaan0124/BigData-Project-1/blob/master/Untitled0.ipynb\" target=\"_parent\"><img src=\"https://colab.research.google.com/assets/colab-badge.svg\" alt=\"Open In Colab\"/></a>"
      ]
    },
    {
      "cell_type": "code",
      "metadata": {
        "id": "1c95lG3IWvRx"
      },
      "source": [
        "import numpy as np"
      ],
      "execution_count": 5,
      "outputs": []
    },
    {
      "cell_type": "markdown",
      "metadata": {
        "id": "x_KvHoi6euK0"
      },
      "source": [
        "Question 1\n"
      ]
    },
    {
      "cell_type": "code",
      "metadata": {
        "colab": {
          "base_uri": "https://localhost:8080/"
        },
        "id": "cUQyHt_Debk-",
        "outputId": "a1a16aa7-d5b4-4e4f-daa8-09c80c9e368b"
      },
      "source": [
        "strArray = np.array([['this','is'],\n",
        "                    ['a','4'],\n",
        "                    ['x','2'],\n",
        "                    ['numpy','array'],])\n",
        "print(strArray)\n",
        "print(\"Shape of the array: \",strArray.shape)\n",
        "print(\"Type of the array: \",strArray.dtype)"
      ],
      "execution_count": 23,
      "outputs": [
        {
          "output_type": "stream",
          "name": "stdout",
          "text": [
            "[['this' 'is']\n",
            " ['a' '4']\n",
            " ['x' '2']\n",
            " ['numpy' 'array']]\n",
            "Shape of the array:  (4, 2)\n",
            "Type of the array:  <U5\n"
          ]
        }
      ]
    },
    {
      "cell_type": "markdown",
      "metadata": {
        "id": "ApF8yaWwhDCu"
      },
      "source": [
        "Question 2\n",
        "100 - 500 is an absolute difference of 400.\n",
        "400/15 is 26.667\n",
        "5x2 array can have 10 elements max.\n",
        "Cannot store 26 elements in 5x2 array.\n",
        "\n",
        "\n"
      ]
    },
    {
      "cell_type": "code",
      "metadata": {
        "colab": {
          "base_uri": "https://localhost:8080/"
        },
        "id": "te8m-G5-gjAN",
        "outputId": "ad7f7b0b-4eab-4718-a7cc-7080c670ceb7"
      },
      "source": [
        "intArray = np.arange(350,500,15)\n",
        "intArray = intArray.reshape(5,2)\n",
        "print(intArray)"
      ],
      "execution_count": 35,
      "outputs": [
        {
          "output_type": "stream",
          "name": "stdout",
          "text": [
            "[[350 365]\n",
            " [380 395]\n",
            " [410 425]\n",
            " [440 455]\n",
            " [470 485]]\n"
          ]
        }
      ]
    },
    {
      "cell_type": "markdown",
      "metadata": {
        "id": "gnornAy2m2At"
      },
      "source": [
        "Question 3\n"
      ]
    },
    {
      "cell_type": "code",
      "metadata": {
        "colab": {
          "base_uri": "https://localhost:8080/"
        },
        "id": "_uwaM-mum4fK",
        "outputId": "bf62fe52-8cdf-40cf-c1c4-2903d1b632a9"
      },
      "source": [
        "sampleArray = np.array([[11 ,22, 33], [44, 55, 66], [77, 88, 99]]) \n",
        "arr = sampleArray[:,1]\n",
        "print(\"Second Column from all rows are: \")\n",
        "print(arr)"
      ],
      "execution_count": 43,
      "outputs": [
        {
          "output_type": "stream",
          "name": "stdout",
          "text": [
            "Second Column from all rows are: \n",
            "[22 55 88]\n"
          ]
        }
      ]
    },
    {
      "cell_type": "markdown",
      "metadata": {
        "id": "7Qru-9OIoOaJ"
      },
      "source": [
        "Question 4\n",
        "**Im assuming start of array index from 0 (not 1)**"
      ]
    },
    {
      "cell_type": "code",
      "metadata": {
        "colab": {
          "base_uri": "https://localhost:8080/"
        },
        "id": "ADMeCSepoPlR",
        "outputId": "7abf16b9-5439-406a-d87c-a7175d380765"
      },
      "source": [
        "sampleArray = np.array([[3 ,6, 9, 12], [15 ,18, 21, 24],\n",
        "[27 ,30, 33, 36], [39 ,42, 45, 48], [51 ,54, 57, 60]]) \n",
        "\n",
        "print(\"array with even rows and odd columns is:\\n\")\n",
        "arr = sampleArray[::2,1::2]\n",
        "print(arr)\n"
      ],
      "execution_count": 49,
      "outputs": [
        {
          "output_type": "stream",
          "name": "stdout",
          "text": [
            "[[ 3  6  9 12]\n",
            " [15 18 21 24]\n",
            " [27 30 33 36]\n",
            " [39 42 45 48]\n",
            " [51 54 57 60]]\n",
            "array with even rows and odd columns is:\n",
            "\n",
            "[[ 6 12]\n",
            " [30 36]\n",
            " [54 60]]\n"
          ]
        }
      ]
    },
    {
      "cell_type": "markdown",
      "metadata": {
        "id": "6k74iNTBqeJe"
      },
      "source": [
        "Question 5"
      ]
    },
    {
      "cell_type": "code",
      "metadata": {
        "colab": {
          "base_uri": "https://localhost:8080/"
        },
        "id": "LDg7UVcVqfz4",
        "outputId": "8dc9669e-c5be-45e9-c2b4-637034e0aefa"
      },
      "source": [
        "arrayOne = np.array([[5, 6, 9], [21 ,18, 27]])\n",
        "arrayTwo = np.array([[15 ,33, 24], [4 ,7,1]]) \n",
        "arrayThree = arrayOne + arrayTwo\n",
        "print(\"Array after addition is : \\n\",arrayThree)\n",
        "arrayThree = arrayThree*arrayThree*arrayThree\n",
        "print(\"Array after cube is : \\n\",arrayThree)"
      ],
      "execution_count": 54,
      "outputs": [
        {
          "output_type": "stream",
          "name": "stdout",
          "text": [
            "Array after addition is : \n",
            " [[20 39 33]\n",
            " [25 25 28]]\n",
            "Array after cube is : \n",
            " [[ 8000 59319 35937]\n",
            " [15625 15625 21952]]\n"
          ]
        }
      ]
    },
    {
      "cell_type": "markdown",
      "metadata": {
        "id": "Svn4y_QJr8ME"
      },
      "source": [
        "Question 6"
      ]
    },
    {
      "cell_type": "code",
      "metadata": {
        "colab": {
          "base_uri": "https://localhost:8080/"
        },
        "id": "dMrGpd-1r874",
        "outputId": "fc22e96b-7578-465b-f61f-2d654237238f"
      },
      "source": [
        "arr = np.arange(10,34,1)\n",
        "arr = arr.reshape(8,3)\n",
        "print(\"8x3 array is : \\n\",arr)\n",
        "subArray = np.split(arr,4)\n",
        "print(\"4 Subarrays are: \\n\",subArray)\n"
      ],
      "execution_count": 61,
      "outputs": [
        {
          "output_type": "stream",
          "name": "stdout",
          "text": [
            "8x3 array is : \n",
            " [[10 11 12]\n",
            " [13 14 15]\n",
            " [16 17 18]\n",
            " [19 20 21]\n",
            " [22 23 24]\n",
            " [25 26 27]\n",
            " [28 29 30]\n",
            " [31 32 33]]\n",
            "4 Subarrays are: \n",
            " [array([[10, 11, 12],\n",
            "       [13, 14, 15]]), array([[16, 17, 18],\n",
            "       [19, 20, 21]]), array([[22, 23, 24],\n",
            "       [25, 26, 27]]), array([[28, 29, 30],\n",
            "       [31, 32, 33]])]\n"
          ]
        }
      ]
    },
    {
      "cell_type": "markdown",
      "metadata": {
        "id": "C97x-cjNtPXj"
      },
      "source": [
        "Question 7"
      ]
    },
    {
      "cell_type": "code",
      "metadata": {
        "colab": {
          "base_uri": "https://localhost:8080/"
        },
        "id": "T4EZKy_YtRUn",
        "outputId": "fb7c014b-b035-4b55-f882-41d1f93c7a1c"
      },
      "source": [
        "sampleArray = np.array([[34,43,73],[82,22,12],[53,94,66]])\n",
        "print(\"Sample Array: \\n\",sampleArray)\n",
        "sortRow = sampleArray[:,sampleArray[1,:].argsort()]\n",
        "print(\"Row sorted Array: \\n\",sortRow)\n",
        "sortCol = sampleArray[sampleArray[:,1].argsort()]\n",
        "print(\"Col sorted Array: \\n\",sortCol)"
      ],
      "execution_count": 68,
      "outputs": [
        {
          "output_type": "stream",
          "name": "stdout",
          "text": [
            "Sample Array: \n",
            " [[34 43 73]\n",
            " [82 22 12]\n",
            " [53 94 66]]\n",
            "Row sorted Array: \n",
            " [[73 43 34]\n",
            " [12 22 82]\n",
            " [66 94 53]]\n",
            "Col sorted Array: \n",
            " [[82 22 12]\n",
            " [34 43 73]\n",
            " [53 94 66]]\n"
          ]
        }
      ]
    },
    {
      "cell_type": "markdown",
      "metadata": {
        "id": "ILQ--rinvPrr"
      },
      "source": [
        "Question 8"
      ]
    },
    {
      "cell_type": "code",
      "metadata": {
        "colab": {
          "base_uri": "https://localhost:8080/"
        },
        "id": "_9LyGWRXvQfv",
        "outputId": "e943b1ec-7cb2-4b3b-c3d2-17e559cd202d"
      },
      "source": [
        "sampleArray = np.array([[34,43,73],[82,22,12],[53,94,66]])\n",
        "max = np.amax(sampleArray, axis = 0) \n",
        "print(\"max is: \\n\",max)\n",
        "min = np.amin(sampleArray, axis = 1) \n",
        "print(\"min is: \\n\",min)"
      ],
      "execution_count": 73,
      "outputs": [
        {
          "output_type": "stream",
          "name": "stdout",
          "text": [
            "max is: \n",
            " [82 94 73]\n",
            "min is: \n",
            " [34 12 53]\n"
          ]
        }
      ]
    }
  ]
}